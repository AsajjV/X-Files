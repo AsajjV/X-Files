{
 "cells": [
  {
   "cell_type": "code",
   "execution_count": 11,
   "metadata": {},
   "outputs": [
    {
     "data": {
      "text/plain": [
       "['UFO_ALL_data']"
      ]
     },
     "execution_count": 11,
     "metadata": {},
     "output_type": "execute_result"
    }
   ],
   "source": [
    "import numpy as np\n",
    "\n",
    "import sqlalchemy\n",
    "from sqlalchemy.ext.automap import automap_base\n",
    "from sqlalchemy.orm import Session\n",
    "from sqlalchemy import create_engine, func\n",
    "\n",
    "from flask import Flask, jsonify\n",
    "\n",
    "\n",
    "#################################################\n",
    "# Database Setup\n",
    "#################################################\n",
    "engine = create_engine(\"sqlite:///db/MUFON.db\")\n",
    "\n",
    "# reflect an existing database into a new model\n",
    "Base = automap_base()\n",
    "# reflect the tables\n",
    "Base.prepare(engine, reflect=True)\n",
    "\n",
    "Base.classes.keys()"
   ]
  },
  {
   "cell_type": "code",
   "execution_count": 14,
   "metadata": {},
   "outputs": [
    {
     "name": "stdout",
     "output_type": "stream",
     "text": [
      "[<sqlalchemy.ext.automap.UFO_ALL_data object at 0x00000214503F16D8>, <sqlalchemy.ext.automap.UFO_ALL_data object at 0x00000214503F1748>, <sqlalchemy.ext.automap.UFO_ALL_data object at 0x00000214503F17B8>, <sqlalchemy.ext.automap.UFO_ALL_data object at 0x00000214503F1828>, <sqlalchemy.ext.automap.UFO_ALL_data object at 0x00000214503F1898>, <sqlalchemy.ext.automap.UFO_ALL_data object at 0x00000214503F1908>, <sqlalchemy.ext.automap.UFO_ALL_data object at 0x00000214503F1978>, <sqlalchemy.ext.automap.UFO_ALL_data object at 0x00000214503F19E8>, <sqlalchemy.ext.automap.UFO_ALL_data object at 0x00000214503F1A58>, <sqlalchemy.ext.automap.UFO_ALL_data object at 0x00000214503F1AC8>, <sqlalchemy.ext.automap.UFO_ALL_data object at 0x00000214503F1B38>, <sqlalchemy.ext.automap.UFO_ALL_data object at 0x00000214503F1BA8>, <sqlalchemy.ext.automap.UFO_ALL_data object at 0x00000214503F1C18>, <sqlalchemy.ext.automap.UFO_ALL_data object at 0x00000214503F1C88>, <sqlalchemy.ext.automap.UFO_ALL_data object at 0x00000214503F1CF8>, <sqlalchemy.ext.automap.UFO_ALL_data object at 0x00000214503F1D68>, <sqlalchemy.ext.automap.UFO_ALL_data object at 0x00000214503F1DD8>, <sqlalchemy.ext.automap.UFO_ALL_data object at 0x00000214503F1E48>, <sqlalchemy.ext.automap.UFO_ALL_data object at 0x00000214503F1EB8>, <sqlalchemy.ext.automap.UFO_ALL_data object at 0x00000214503F1F28>, <sqlalchemy.ext.automap.UFO_ALL_data object at 0x00000214503F1FD0>, <sqlalchemy.ext.automap.UFO_ALL_data object at 0x00000214503FA0B8>, <sqlalchemy.ext.automap.UFO_ALL_data object at 0x00000214503FA160>, <sqlalchemy.ext.automap.UFO_ALL_data object at 0x00000214503FA208>, <sqlalchemy.ext.automap.UFO_ALL_data object at 0x00000214503FA2B0>, <sqlalchemy.ext.automap.UFO_ALL_data object at 0x00000214503FA358>, <sqlalchemy.ext.automap.UFO_ALL_data object at 0x00000214503FA400>, <sqlalchemy.ext.automap.UFO_ALL_data object at 0x00000214503FA4A8>, <sqlalchemy.ext.automap.UFO_ALL_data object at 0x00000214503FA550>, <sqlalchemy.ext.automap.UFO_ALL_data object at 0x00000214503FA5F8>, <sqlalchemy.ext.automap.UFO_ALL_data object at 0x00000214503FA6A0>, <sqlalchemy.ext.automap.UFO_ALL_data object at 0x00000214503FA748>, <sqlalchemy.ext.automap.UFO_ALL_data object at 0x00000214503FA7F0>, <sqlalchemy.ext.automap.UFO_ALL_data object at 0x00000214503FA898>, <sqlalchemy.ext.automap.UFO_ALL_data object at 0x00000214503FA940>, <sqlalchemy.ext.automap.UFO_ALL_data object at 0x00000214503FA9E8>, <sqlalchemy.ext.automap.UFO_ALL_data object at 0x00000214503FAA90>, <sqlalchemy.ext.automap.UFO_ALL_data object at 0x00000214503FAB38>, <sqlalchemy.ext.automap.UFO_ALL_data object at 0x00000214503FABE0>, <sqlalchemy.ext.automap.UFO_ALL_data object at 0x00000214503FAC88>, <sqlalchemy.ext.automap.UFO_ALL_data object at 0x00000214503FAD30>, <sqlalchemy.ext.automap.UFO_ALL_data object at 0x00000214503FADD8>, <sqlalchemy.ext.automap.UFO_ALL_data object at 0x00000214503FAE80>, <sqlalchemy.ext.automap.UFO_ALL_data object at 0x00000214503FAF28>, <sqlalchemy.ext.automap.UFO_ALL_data object at 0x00000214503FAFD0>, <sqlalchemy.ext.automap.UFO_ALL_data object at 0x00000214504000B8>, <sqlalchemy.ext.automap.UFO_ALL_data object at 0x0000021450400160>, <sqlalchemy.ext.automap.UFO_ALL_data object at 0x0000021450400208>]\n"
     ]
    }
   ],
   "source": [
    "# Save reference to the table\n",
    "States_Metadata = Base.classes.UFO_ALL_data\n",
    "\n",
    "# Create our session (link) from Python to the DB\n",
    "session = Session(engine)\n",
    "\n",
    "#################################################\n",
    "# Flask Setup\n",
    "#################################################\n",
    "app = Flask(__name__)\n",
    "\n",
    "\n",
    "#################################################\n",
    "# Flask Routes\n",
    "#################################################\n",
    "\n",
    "\n",
    "    # Query all passengers\n",
    "results = session.query(States_Metadata).all()\n",
    "\n",
    "    # Convert list of tuples into normal list\n",
    "all_names = list(np.ravel(results))\n",
    "\n",
    "print(all_names)"
   ]
  },
  {
   "cell_type": "code",
   "execution_count": 15,
   "metadata": {},
   "outputs": [
    {
     "name": "stdout",
     "output_type": "stream",
     "text": [
      "[<sqlalchemy.ext.automap.UFO_ALL_data object at 0x00000214503F16D8>, <sqlalchemy.ext.automap.UFO_ALL_data object at 0x00000214503F1748>, <sqlalchemy.ext.automap.UFO_ALL_data object at 0x00000214503F17B8>, <sqlalchemy.ext.automap.UFO_ALL_data object at 0x00000214503F1828>, <sqlalchemy.ext.automap.UFO_ALL_data object at 0x00000214503F1898>, <sqlalchemy.ext.automap.UFO_ALL_data object at 0x00000214503F1908>, <sqlalchemy.ext.automap.UFO_ALL_data object at 0x00000214503F1978>, <sqlalchemy.ext.automap.UFO_ALL_data object at 0x00000214503F19E8>, <sqlalchemy.ext.automap.UFO_ALL_data object at 0x00000214503F1A58>, <sqlalchemy.ext.automap.UFO_ALL_data object at 0x00000214503F1AC8>, <sqlalchemy.ext.automap.UFO_ALL_data object at 0x00000214503F1B38>, <sqlalchemy.ext.automap.UFO_ALL_data object at 0x00000214503F1BA8>, <sqlalchemy.ext.automap.UFO_ALL_data object at 0x00000214503F1C18>, <sqlalchemy.ext.automap.UFO_ALL_data object at 0x00000214503F1C88>, <sqlalchemy.ext.automap.UFO_ALL_data object at 0x00000214503F1CF8>, <sqlalchemy.ext.automap.UFO_ALL_data object at 0x00000214503F1D68>, <sqlalchemy.ext.automap.UFO_ALL_data object at 0x00000214503F1DD8>, <sqlalchemy.ext.automap.UFO_ALL_data object at 0x00000214503F1E48>, <sqlalchemy.ext.automap.UFO_ALL_data object at 0x00000214503F1EB8>, <sqlalchemy.ext.automap.UFO_ALL_data object at 0x00000214503F1F28>, <sqlalchemy.ext.automap.UFO_ALL_data object at 0x00000214503F1FD0>, <sqlalchemy.ext.automap.UFO_ALL_data object at 0x00000214503FA0B8>, <sqlalchemy.ext.automap.UFO_ALL_data object at 0x00000214503FA160>, <sqlalchemy.ext.automap.UFO_ALL_data object at 0x00000214503FA208>, <sqlalchemy.ext.automap.UFO_ALL_data object at 0x00000214503FA2B0>, <sqlalchemy.ext.automap.UFO_ALL_data object at 0x00000214503FA358>, <sqlalchemy.ext.automap.UFO_ALL_data object at 0x00000214503FA400>, <sqlalchemy.ext.automap.UFO_ALL_data object at 0x00000214503FA4A8>, <sqlalchemy.ext.automap.UFO_ALL_data object at 0x00000214503FA550>, <sqlalchemy.ext.automap.UFO_ALL_data object at 0x00000214503FA5F8>, <sqlalchemy.ext.automap.UFO_ALL_data object at 0x00000214503FA6A0>, <sqlalchemy.ext.automap.UFO_ALL_data object at 0x00000214503FA748>, <sqlalchemy.ext.automap.UFO_ALL_data object at 0x00000214503FA7F0>, <sqlalchemy.ext.automap.UFO_ALL_data object at 0x00000214503FA898>, <sqlalchemy.ext.automap.UFO_ALL_data object at 0x00000214503FA940>, <sqlalchemy.ext.automap.UFO_ALL_data object at 0x00000214503FA9E8>, <sqlalchemy.ext.automap.UFO_ALL_data object at 0x00000214503FAA90>, <sqlalchemy.ext.automap.UFO_ALL_data object at 0x00000214503FAB38>, <sqlalchemy.ext.automap.UFO_ALL_data object at 0x00000214503FABE0>, <sqlalchemy.ext.automap.UFO_ALL_data object at 0x00000214503FAC88>, <sqlalchemy.ext.automap.UFO_ALL_data object at 0x00000214503FAD30>, <sqlalchemy.ext.automap.UFO_ALL_data object at 0x00000214503FADD8>, <sqlalchemy.ext.automap.UFO_ALL_data object at 0x00000214503FAE80>, <sqlalchemy.ext.automap.UFO_ALL_data object at 0x00000214503FAF28>, <sqlalchemy.ext.automap.UFO_ALL_data object at 0x00000214503FAFD0>, <sqlalchemy.ext.automap.UFO_ALL_data object at 0x00000214504000B8>, <sqlalchemy.ext.automap.UFO_ALL_data object at 0x0000021450400160>, <sqlalchemy.ext.automap.UFO_ALL_data object at 0x0000021450400208>]\n"
     ]
    }
   ],
   "source": [
    "print (results)"
   ]
  },
  {
   "cell_type": "code",
   "execution_count": null,
   "metadata": {},
   "outputs": [],
   "source": []
  }
 ],
 "metadata": {
  "kernelspec": {
   "display_name": "Python 3",
   "language": "python",
   "name": "python3"
  },
  "language_info": {
   "codemirror_mode": {
    "name": "ipython",
    "version": 3
   },
   "file_extension": ".py",
   "mimetype": "text/x-python",
   "name": "python",
   "nbconvert_exporter": "python",
   "pygments_lexer": "ipython3",
   "version": "3.6.5"
  }
 },
 "nbformat": 4,
 "nbformat_minor": 2
}
