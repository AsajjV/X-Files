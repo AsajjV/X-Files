{
 "cells": [
  {
   "cell_type": "code",
   "execution_count": 1,
   "metadata": {},
   "outputs": [],
   "source": [
    "# Dependencies and Setup\n",
    "import pandas as pd\n",
    "import numpy as np\n",
    "from collections import Counter\n",
    "import string\n",
    "\n",
    "# Files to Load\n",
    "description_file = \"Datasets/Output/word_cloud.csv\"\n",
    "\n",
    "# Read File and store into Pandas dataFrame\n",
    "description_df = pd.read_csv(description_file)"
   ]
  },
  {
   "cell_type": "code",
   "execution_count": 2,
   "metadata": {},
   "outputs": [
    {
     "data": {
      "text/plain": [
       "Index(['word', 'count', 'state_short', 'state_long'], dtype='object')"
      ]
     },
     "execution_count": 2,
     "metadata": {},
     "output_type": "execute_result"
    }
   ],
   "source": [
    "#Column Descriptions\n",
    "description_df.columns   "
   ]
  },
  {
   "cell_type": "code",
   "execution_count": 3,
   "metadata": {},
   "outputs": [
    {
     "data": {
      "text/html": [
       "<div>\n",
       "<style scoped>\n",
       "    .dataframe tbody tr th:only-of-type {\n",
       "        vertical-align: middle;\n",
       "    }\n",
       "\n",
       "    .dataframe tbody tr th {\n",
       "        vertical-align: top;\n",
       "    }\n",
       "\n",
       "    .dataframe thead th {\n",
       "        text-align: right;\n",
       "    }\n",
       "</style>\n",
       "<table border=\"1\" class=\"dataframe\">\n",
       "  <thead>\n",
       "    <tr style=\"text-align: right;\">\n",
       "      <th></th>\n",
       "      <th>state_long</th>\n",
       "      <th>state_short</th>\n",
       "      <th>word</th>\n",
       "      <th>count</th>\n",
       "    </tr>\n",
       "  </thead>\n",
       "  <tbody>\n",
       "    <tr>\n",
       "      <th>0</th>\n",
       "      <td>United States</td>\n",
       "      <td>USA</td>\n",
       "      <td>light</td>\n",
       "      <td>670</td>\n",
       "    </tr>\n",
       "    <tr>\n",
       "      <th>1</th>\n",
       "      <td>United States</td>\n",
       "      <td>USA</td>\n",
       "      <td>object</td>\n",
       "      <td>667</td>\n",
       "    </tr>\n",
       "    <tr>\n",
       "      <th>2</th>\n",
       "      <td>United States</td>\n",
       "      <td>USA</td>\n",
       "      <td>lights</td>\n",
       "      <td>591</td>\n",
       "    </tr>\n",
       "    <tr>\n",
       "      <th>3</th>\n",
       "      <td>United States</td>\n",
       "      <td>USA</td>\n",
       "      <td>bright</td>\n",
       "      <td>499</td>\n",
       "    </tr>\n",
       "    <tr>\n",
       "      <th>4</th>\n",
       "      <td>United States</td>\n",
       "      <td>USA</td>\n",
       "      <td>sky</td>\n",
       "      <td>419</td>\n",
       "    </tr>\n",
       "  </tbody>\n",
       "</table>\n",
       "</div>"
      ],
      "text/plain": [
       "      state_long state_short    word  count\n",
       "0  United States         USA   light    670\n",
       "1  United States         USA  object    667\n",
       "2  United States         USA  lights    591\n",
       "3  United States         USA  bright    499\n",
       "4  United States         USA     sky    419"
      ]
     },
     "execution_count": 3,
     "metadata": {},
     "output_type": "execute_result"
    }
   ],
   "source": [
    "#Reorganize Columns\n",
    "df = description_df[[\"state_long\",\"state_short\",\"word\",\"count\"]]\n",
    "df.head()"
   ]
  },
  {
   "cell_type": "code",
   "execution_count": 4,
   "metadata": {},
   "outputs": [
    {
     "data": {
      "text/html": [
       "<div>\n",
       "<style scoped>\n",
       "    .dataframe tbody tr th:only-of-type {\n",
       "        vertical-align: middle;\n",
       "    }\n",
       "\n",
       "    .dataframe tbody tr th {\n",
       "        vertical-align: top;\n",
       "    }\n",
       "\n",
       "    .dataframe thead th {\n",
       "        text-align: right;\n",
       "    }\n",
       "</style>\n",
       "<table border=\"1\" class=\"dataframe\">\n",
       "  <thead>\n",
       "    <tr style=\"text-align: right;\">\n",
       "      <th></th>\n",
       "      <th>state_long</th>\n",
       "      <th>state_short</th>\n",
       "      <th>word</th>\n",
       "      <th>count</th>\n",
       "    </tr>\n",
       "  </thead>\n",
       "  <tbody>\n",
       "    <tr>\n",
       "      <th>0</th>\n",
       "      <td>United States</td>\n",
       "      <td>USA</td>\n",
       "      <td>light</td>\n",
       "      <td>670</td>\n",
       "    </tr>\n",
       "    <tr>\n",
       "      <th>1</th>\n",
       "      <td>United States</td>\n",
       "      <td>USA</td>\n",
       "      <td>object</td>\n",
       "      <td>667</td>\n",
       "    </tr>\n",
       "    <tr>\n",
       "      <th>2</th>\n",
       "      <td>United States</td>\n",
       "      <td>USA</td>\n",
       "      <td>lights</td>\n",
       "      <td>591</td>\n",
       "    </tr>\n",
       "    <tr>\n",
       "      <th>3</th>\n",
       "      <td>United States</td>\n",
       "      <td>USA</td>\n",
       "      <td>bright</td>\n",
       "      <td>499</td>\n",
       "    </tr>\n",
       "    <tr>\n",
       "      <th>4</th>\n",
       "      <td>United States</td>\n",
       "      <td>USA</td>\n",
       "      <td>sky</td>\n",
       "      <td>419</td>\n",
       "    </tr>\n",
       "  </tbody>\n",
       "</table>\n",
       "</div>"
      ],
      "text/plain": [
       "      state_long state_short    word  count\n",
       "0  United States         USA   light    670\n",
       "1  United States         USA  object    667\n",
       "2  United States         USA  lights    591\n",
       "3  United States         USA  bright    499\n",
       "4  United States         USA     sky    419"
      ]
     },
     "execution_count": 4,
     "metadata": {},
     "output_type": "execute_result"
    }
   ],
   "source": [
    "# set index and create dataframe to USA \n",
    "st_df = df.loc[(df['state_short'] == 'USA')]\n",
    "st_df.head()"
   ]
  },
  {
   "cell_type": "code",
   "execution_count": 5,
   "metadata": {},
   "outputs": [],
   "source": [
    "#Array Variable for word\n",
    "n1 = st_df['word']"
   ]
  },
  {
   "cell_type": "code",
   "execution_count": 6,
   "metadata": {},
   "outputs": [],
   "source": [
    "#Array Variable for counts\n",
    "n2 = st_df['count']"
   ]
  },
  {
   "cell_type": "code",
   "execution_count": 7,
   "metadata": {},
   "outputs": [],
   "source": [
    "#Array variable to repeat the words by the number of counts\n",
    "words_var = st_df['word'].repeat(n2)\n",
    "\n",
    "#st2_df = pd.DataFrame({'words':words_var})\n",
    "#st2_df.head()"
   ]
  },
  {
   "cell_type": "code",
   "execution_count": 8,
   "metadata": {},
   "outputs": [
    {
     "data": {
      "text/plain": [
       "'light light light light light light light light light light light light light light light light light light light light light light light light light light light light light light light light light light light light light light light light light light light light light light light light light light light light light light light light light light light light light light light light light light light light light light light light light light light light light light light light light light light light light light light light light light light light light light light light light light light light light light light light light light light light light light light light light light light light light light light light light light light light light light light light light light light light light light light light light light light light light light light light light light light light light light light light light light light light light light light light light light light light light light light light light light light light light light light light light light light light light light light light light light light light light light light light light light light light light light light light light light light light light light light light light light light light light light light light light light light light light light light light light light light light light light light light light light light light light light light light light light light light light light light light light light light light light light light light light light light light light light light light light light light light light light light light light light light light light light light light light light light light light light light light light light light light light light light light light light light light light light light light light light light light light light light light light light light light light light light light light light light light light light light light light light light light light light light light light light light light light light light light light light light light light light light light light light light light light light light light light light light light light light light light light light light light light light light light light light light light light light light light light light light light light light light light light light light light light light light light light light light light light light light light light light light light light light light light light light light light light light light light light light light light light light light light light light light light light light light light light light light light light light light light light light light light light light light light light light light light light light light light light light light light light light light light light light light light light light light light light light light light light light light light light light light light light light light light light light light light light light light light light light light light light light light light light light light light light light light light light light light light light light light light light light light light light light light light light light light light light light light light light light light light light light light light light light light light light light light light light light light light light light light light light light light light light light light light light light light light light light light light light light light light light light light light light light light light light light light light light light light light light light light light light light light light light light light light light light light light light light light light light light light light light light light light light light light light light light light light light light light light light light light light light light light light light light light light light light light light light light light light light light light light light light object object object object object object object object object object object object object object object object object object object object object object object object object object object object object object object object object object object object object object object object object object object object object object object object object object object object object object object object object object object object object object object object object object object object object object object object object object object object object object object object object object object object object object object object object object object object object object object object object object object object object object object object object object object object object object object object object object object object object object object object object object object object object object object object object object object object object object object object object object object object object object object object object object object object object object object object object object object object object object object object object object object object object object object object object object object object object object object object object object object object object object object object object object object object object object object object object object object object object object object object object object object object object object object object object object object object object object object object object object object object object object object object object object object object object object object object object object object object object object object object object object object object object object object object object object object object object object object object object object object object object object object object object object object object object object object object object object object object object object object object object object object object object object object object object object object object object object object object object object object object object object object object object object object object object object object object object object object object object object object object object object object object object object object object object object object object object object object object object object object object object object object object object object object object object object object object object object object object object object object object object object object object object object object object object object object object object object object object object object object object object object object object object object object object object object object object object object object object object object object object object object object object object object object object object object object object object object object object object object object object object object object object object object object object object object object object object object object object object object object object object object object object object object object object object object object object object object object object object object object object object object object object object object object object object object object object object object object object object object object object object object object object object object object object object object object object object object object object object object object object object object object object object object object object object object object object object object object object object object object object object object object object object object object object object object object object object object object object object object object object object object object object object object object object object object object object object object object object object object object object object object object object object object object object object object object object object object object object object object object object object object object object object object object object object object object object object object object object object object object object object object object object object object object object object object object object object object object object object object object object object object object object object object object object object object object object object object object object object object object object object object object object object object object object object object object object object object object object object object object object object object object object object object object lights lights lights lights lights lights lights lights lights lights lights lights lights lights lights lights lights lights lights lights lights lights lights lights lights lights lights lights lights lights lights lights lights lights lights lights lights lights lights lights lights lights lights lights lights lights lights lights lights lights lights lights lights lights lights lights lights lights lights lights lights lights lights lights lights lights lights lights lights lights lights lights lights lights lights lights lights lights lights lights lights lights lights lights lights lights lights lights lights lights lights lights lights lights lights lights lights lights lights lights lights lights lights lights lights lights lights lights lights lights lights lights lights lights lights lights lights lights lights lights lights lights lights lights lights lights lights lights lights lights lights lights lights lights lights lights lights lights lights lights lights lights lights lights lights lights lights lights lights lights lights lights lights lights lights lights lights lights lights lights lights lights lights lights lights lights lights lights lights lights lights lights lights lights lights lights lights lights lights lights lights lights lights lights lights lights lights lights lights lights lights lights lights lights lights lights lights lights lights lights lights lights lights lights lights lights lights lights lights lights lights lights lights lights lights lights lights lights lights lights lights lights lights lights lights lights lights lights lights lights lights lights lights lights lights lights lights lights lights lights lights lights lights lights lights lights lights lights lights lights lights lights lights lights lights lights lights lights lights lights lights lights lights lights lights lights lights lights lights lights lights lights lights lights lights lights lights lights lights lights lights lights lights lights lights lights lights lights lights lights lights lights lights lights lights lights lights lights lights lights lights lights lights lights lights lights lights lights lights lights lights lights lights lights lights lights lights lights lights lights lights lights lights lights lights lights lights lights lights lights lights lights lights lights lights lights lights lights lights lights lights lights lights lights lights lights lights lights lights lights lights lights lights lights lights lights lights lights lights lights lights lights lights lights lights lights lights lights lights lights lights lights lights lights lights lights lights lights lights lights lights lights lights lights lights lights lights lights lights lights lights lights lights lights lights lights lights lights lights lights lights lights lights lights lights lights lights lights lights lights lights lights lights lights lights lights lights lights lights lights lights lights lights lights lights lights lights lights lights lights lights lights lights lights lights lights lights lights lights lights lights lights lights lights lights lights lights lights lights lights lights lights lights lights lights lights lights lights lights lights lights lights lights lights lights lights lights lights lights lights lights lights lights lights lights lights lights lights lights lights lights lights lights lights lights lights lights lights lights lights lights lights lights lights lights lights lights lights lights lights lights lights lights lights lights lights lights lights lights lights lights lights lights lights lights lights lights lights lights lights lights lights lights lights lights lights lights lights lights lights lights lights lights lights lights lights lights lights lights lights lights lights lights lights lights lights lights lights lights lights lights lights lights lights lights lights lights lights lights lights lights lights lights lights lights lights lights lights lights lights lights lights lights lights lights lights lights lights lights lights lights lights lights lights lights lights lights lights lights lights lights bright bright bright bright bright bright bright bright bright bright bright bright bright bright bright bright bright bright bright bright bright bright bright bright bright bright bright bright bright bright bright bright bright bright bright bright bright bright bright bright bright bright bright bright bright bright bright bright bright bright bright bright bright bright bright bright bright bright bright bright bright bright bright bright bright bright bright bright bright bright bright bright bright bright bright bright bright bright bright bright bright bright bright bright bright bright bright bright bright bright bright bright bright bright bright bright bright bright bright bright bright bright bright bright bright bright bright bright bright bright bright bright bright bright bright bright bright bright bright bright bright bright bright bright bright bright bright bright bright bright bright bright bright bright bright bright bright bright bright bright bright bright bright bright bright bright bright bright bright bright bright bright bright bright bright bright bright bright bright bright bright bright bright bright bright bright bright bright bright bright bright bright bright bright bright bright bright bright bright bright bright bright bright bright bright bright bright bright bright bright bright bright bright bright bright bright bright bright bright bright bright bright bright bright bright bright bright bright bright bright bright bright bright bright bright bright bright bright bright bright bright bright bright bright bright bright bright bright bright bright bright bright bright bright bright bright bright bright bright bright bright bright bright bright bright bright bright bright bright bright bright bright bright bright bright bright bright bright bright bright bright bright bright bright bright bright bright bright bright bright bright bright bright bright bright bright bright bright bright bright bright bright bright bright bright bright bright bright bright bright bright bright bright bright bright bright bright bright bright bright bright bright bright bright bright bright bright bright bright bright bright bright bright bright bright bright bright bright bright bright bright bright bright bright bright bright bright bright bright bright bright bright bright bright bright bright bright bright bright bright bright bright bright bright bright bright bright bright bright bright bright bright bright bright bright bright bright bright bright bright bright bright bright bright bright bright bright bright bright bright bright bright bright bright bright bright bright bright bright bright bright bright bright bright bright bright bright bright bright bright bright bright bright bright bright bright bright bright bright bright bright bright bright bright bright bright bright bright bright bright bright bright bright bright bright bright bright bright bright bright bright bright bright bright bright bright bright bright bright bright bright bright bright bright bright bright bright bright bright bright bright bright bright bright bright bright bright bright bright bright bright bright bright bright bright bright bright bright bright bright bright bright bright bright bright bright bright bright bright bright bright bright bright bright bright bright bright bright bright bright bright bright bright bright bright bright bright bright bright bright bright bright bright bright bright bright bright bright bright sky sky sky sky sky sky sky sky sky sky sky sky sky sky sky sky sky sky sky sky sky sky sky sky sky sky sky sky sky sky sky sky sky sky sky sky sky sky sky sky sky sky sky sky sky sky sky sky sky sky sky sky sky sky sky sky sky sky sky sky sky sky sky sky sky sky sky sky sky sky sky sky sky sky sky sky sky sky sky sky sky sky sky sky sky sky sky sky sky sky sky sky sky sky sky sky sky sky sky sky sky sky sky sky sky sky sky sky sky sky sky sky sky sky sky sky sky sky sky sky sky sky sky sky sky sky sky sky sky sky sky sky sky sky sky sky sky sky sky sky sky sky sky sky sky sky sky sky sky sky sky sky sky sky sky sky sky sky sky sky sky sky sky sky sky sky sky sky sky sky sky sky sky sky sky sky sky sky sky sky sky sky sky sky sky sky sky sky sky sky sky sky sky sky sky sky sky sky sky sky sky sky sky sky sky sky sky sky sky sky sky sky sky sky sky sky sky sky sky sky sky sky sky sky sky sky sky sky sky sky sky sky sky sky sky sky sky sky sky sky sky sky sky sky sky sky sky sky sky sky sky sky sky sky sky sky sky sky sky sky sky sky sky sky sky sky sky sky sky sky sky sky sky sky sky sky sky sky sky sky sky sky sky sky sky sky sky sky sky sky sky sky sky sky sky sky sky sky sky sky sky sky sky sky sky sky sky sky sky sky sky sky sky sky sky sky sky sky sky sky sky sky sky sky sky sky sky sky sky sky sky sky sky sky sky sky sky sky sky sky sky sky sky sky sky sky sky sky sky sky sky sky sky sky sky sky sky sky sky sky sky sky sky sky sky sky sky sky sky sky sky sky sky sky sky sky sky sky sky sky sky sky sky sky sky sky sky sky sky sky sky sky sky sky sky sky sky sky sky sky sky sky sky sky sky sky sky sky sky sky sky sky sky sky sky sky sky sky sky moving moving moving moving moving moving moving moving moving moving moving moving moving moving moving moving moving moving moving moving moving moving moving moving moving moving moving moving moving moving moving moving moving moving moving moving moving moving moving moving moving moving moving moving moving moving moving moving moving moving moving moving moving moving moving moving moving moving moving moving moving moving moving moving moving moving moving moving moving moving moving moving moving moving moving moving moving moving moving moving moving moving moving moving moving moving moving moving moving moving moving moving moving moving moving moving moving moving moving moving moving moving moving moving moving moving moving moving moving moving moving moving moving moving moving moving moving moving moving moving moving moving moving moving moving moving moving moving moving moving moving moving moving moving moving moving moving moving moving moving moving moving moving moving moving moving moving moving moving moving moving moving moving moving moving moving moving moving moving moving moving moving moving moving moving moving moving moving moving moving moving moving moving moving moving moving moving moving moving moving moving moving moving moving moving moving moving moving moving moving moving moving moving moving moving moving moving moving moving moving moving moving moving moving moving moving moving moving moving moving moving moving moving moving moving moving moving moving moving moving moving moving moving moving moving moving moving moving moving moving moving moving moving moving moving moving moving moving moving moving moving moving moving moving moving moving moving moving moving moving moving moving moving moving moving moving moving moving moving moving moving moving moving moving moving moving moving moving moving moving moving moving moving moving moving moving moving moving moving moving moving moving moving moving moving moving moving moving moving moving moving moving moving moving moving moving moving moving moving moving moving moving moving moving moving moving moving moving moving moving moving moving moving moving moving moving moving moving moving moving moving moving moving moving moving moving moving moving moving moving moving moving moving moving moving moving moving moving moving moving moving moving moving moving moving moving moving moving moving moving moving moving moving moving moving moving moving white white white white white white white white white white white white white white white white white white white white white white white white white white white white white white white white white white white white white white white white white white white white white white white white white white white white white white white white white white white white white white white white white white white white white white white white white white white white white white white white white white white white white white white white white white white white white white white white white white white white white white white white white white white white white white white white white white white white white white white white white white white white white white white white white white white white white white white white white white white white white white white white white white white white white white white white white white white white white white white white white white white white white white white white white white white white white white white white white white white white white white white white white white white white white white white white white white white white white white white white white white white white white white white white white white white white white white white white white white white white white white white white white white white white white white white white white white white white white white white white white white white white white white white white white white white white white white white white white white white white white white white white white white white white white white white white white white white white white white white white white white white white white white white white white white white white white white white white white white white white white white white white white white white white white white white white white white white white white white white white white white white white white white white white white white white white white white white white white white white white white white white white hovering hovering hovering hovering hovering hovering hovering hovering hovering hovering hovering hovering hovering hovering hovering hovering hovering hovering hovering hovering hovering hovering hovering hovering hovering hovering hovering hovering hovering hovering hovering hovering hovering hovering hovering hovering hovering hovering hovering hovering hovering hovering hovering hovering hovering hovering hovering hovering hovering hovering hovering hovering hovering hovering hovering hovering hovering hovering hovering hovering hovering hovering hovering hovering hovering hovering hovering hovering hovering hovering hovering hovering hovering hovering hovering hovering hovering hovering hovering hovering hovering hovering hovering hovering hovering hovering hovering hovering hovering hovering hovering hovering hovering hovering hovering hovering hovering hovering hovering hovering hovering hovering hovering hovering hovering hovering hovering hovering hovering hovering hovering hovering hovering hovering hovering hovering hovering hovering hovering hovering hovering hovering hovering hovering hovering hovering hovering hovering hovering hovering hovering hovering hovering hovering hovering hovering hovering hovering hovering hovering hovering hovering hovering hovering hovering hovering hovering hovering hovering hovering hovering hovering hovering hovering hovering hovering hovering hovering hovering hovering hovering hovering hovering hovering hovering hovering hovering hovering hovering hovering hovering hovering hovering hovering hovering hovering hovering hovering hovering hovering hovering hovering hovering hovering hovering hovering hovering hovering hovering hovering hovering hovering hovering hovering hovering hovering hovering hovering hovering hovering hovering hovering hovering hovering hovering hovering hovering hovering hovering hovering hovering hovering hovering hovering hovering hovering hovering hovering hovering hovering hovering hovering hovering hovering hovering hovering hovering hovering hovering hovering hovering hovering hovering hovering hovering hovering hovering hovering hovering hovering hovering hovering hovering hovering hovering hovering hovering hovering hovering hovering hovering hovering hovering hovering hovering hovering hovering hovering hovering hovering hovering hovering hovering hovering red red red red red red red red red red red red red red red red red red red red red red red red red red red red red red red red red red red red red red red red red red red red red red red red red red red red red red red red red red red red red red red red red red red red red red red red red red red red red red red red red red red red red red red red red red red red red red red red red red red red red red red red red red red red red red red red red red red red red red red red red red red red red red red red red red red red red red red red red red red red red red red red red red red red red red red red red red red red red red red red red red red red red red red red red red red red red red red red red red red red red red red red red red red red red red red red red red red red red red red red red red red red red red red red red red red red red red red red red red red red red red red red red red red red red ufo ufo ufo ufo ufo ufo ufo ufo ufo ufo ufo ufo ufo ufo ufo ufo ufo ufo ufo ufo ufo ufo ufo ufo ufo ufo ufo ufo ufo ufo ufo ufo ufo ufo ufo ufo ufo ufo ufo ufo ufo ufo ufo ufo ufo ufo ufo ufo ufo ufo ufo ufo ufo ufo ufo ufo ufo ufo ufo ufo ufo ufo ufo ufo ufo ufo ufo ufo ufo ufo ufo ufo ufo ufo ufo ufo ufo ufo ufo ufo ufo ufo ufo ufo ufo ufo ufo ufo ufo ufo ufo ufo ufo ufo ufo ufo ufo ufo ufo ufo ufo ufo ufo ufo ufo ufo ufo ufo ufo ufo ufo ufo ufo ufo ufo ufo ufo ufo ufo ufo ufo ufo ufo ufo ufo ufo ufo ufo ufo ufo ufo ufo ufo ufo ufo ufo ufo ufo ufo ufo ufo ufo ufo ufo ufo ufo ufo ufo ufo ufo ufo ufo ufo ufo ufo ufo ufo ufo ufo ufo ufo ufo ufo ufo ufo ufo ufo ufo ufo ufo ufo ufo ufo ufo ufo ufo ufo ufo ufo ufo ufo ufo ufo ufo ufo ufo ufo ufo ufo ufo ufo ufo ufo ufo ufo ufo ufo ufo ufo ufo ufo ufo ufo ufo ufo ufo ufo ufo flying flying flying flying flying flying flying flying flying flying flying flying flying flying flying flying flying flying flying flying flying flying flying flying flying flying flying flying flying flying flying flying flying flying flying flying flying flying flying flying flying flying flying flying flying flying flying flying flying flying flying flying flying flying flying flying flying flying flying flying flying flying flying flying flying flying flying flying flying flying flying flying flying flying flying flying flying flying flying flying flying flying flying flying flying flying flying flying flying flying flying flying flying flying flying flying flying flying flying flying flying flying flying flying flying flying flying flying flying flying flying flying flying flying flying flying flying flying flying flying flying flying flying flying flying flying flying flying flying flying flying flying flying flying flying flying flying flying flying flying flying flying flying flying flying flying flying flying flying flying flying flying flying flying flying flying flying flying flying flying flying flying flying flying flying flying flying flying flying flying flying flying flying flying flying flying flying flying flying flying flying flying flying flying flying flying flying flying flying flying flying flying flying flying flying flying moved moved moved moved moved moved moved moved moved moved moved moved moved moved moved moved moved moved moved moved moved moved moved moved moved moved moved moved moved moved moved moved moved moved moved moved moved moved moved moved moved moved moved moved moved moved moved moved moved moved moved moved moved moved moved moved moved moved moved moved moved moved moved moved moved moved moved moved moved moved moved moved moved moved moved moved moved moved moved moved moved moved moved moved moved moved moved moved moved moved moved moved moved moved moved moved moved moved moved moved moved moved moved moved moved moved moved moved moved moved moved moved moved moved moved moved moved moved moved moved moved moved moved moved moved moved moved moved moved moved moved moved moved moved moved moved moved moved moved moved moved moved moved moved moved moved moved moved moved moved moved moved moved moved moved moved moved moved moved moved moved moved moved moved moved moved moved moved moved moved moved moved moved moved moved moved moved moved moved moved moved moved moved moved moved moved moved moved moved moved moved orb orb orb orb orb orb orb orb orb orb orb orb orb orb orb orb orb orb orb orb orb orb orb orb orb orb orb orb orb orb orb orb orb orb orb orb orb orb orb orb orb orb orb orb orb orb orb orb orb orb orb orb orb orb orb orb orb orb orb orb orb orb orb orb orb orb orb orb orb orb orb orb orb orb orb orb orb orb orb orb orb orb orb orb orb orb orb orb orb orb orb orb orb orb orb orb orb orb orb orb orb orb orb orb orb orb orb orb orb orb orb orb orb orb orb orb orb orb orb orb orb orb orb orb orb orb orb orb orb orb orb orb orb orb orb orb orb orb orb orb orb orb orb orb orb orb orb orb orb orb orb orb orb orb orb orb orb orb orb orb orb orb orb orb orb orb orb orb orb orb orb orb orb orb orb orb orb orb orb orb orb orb orb orb orb orb orb orb orb orb noticed noticed noticed noticed noticed noticed noticed noticed noticed noticed noticed noticed noticed noticed noticed noticed noticed noticed noticed noticed noticed noticed noticed noticed noticed noticed noticed noticed noticed noticed noticed noticed noticed noticed noticed noticed noticed noticed noticed noticed noticed noticed noticed noticed noticed noticed noticed noticed noticed noticed noticed noticed noticed noticed noticed noticed noticed noticed noticed noticed noticed noticed noticed noticed noticed noticed noticed noticed noticed noticed noticed noticed noticed noticed noticed noticed noticed noticed noticed noticed noticed noticed noticed noticed noticed noticed noticed noticed noticed noticed noticed noticed noticed noticed noticed noticed noticed noticed noticed noticed noticed noticed noticed noticed noticed noticed noticed noticed noticed noticed noticed noticed noticed noticed noticed noticed noticed noticed noticed noticed noticed noticed noticed noticed noticed noticed noticed noticed noticed noticed noticed noticed noticed noticed noticed noticed noticed noticed noticed noticed noticed noticed noticed noticed noticed noticed noticed noticed noticed noticed noticed noticed noticed noticed noticed noticed noticed noticed noticed noticed noticed noticed noticed noticed noticed noticed noticed noticed noticed noticed noticed objects objects objects objects objects objects objects objects objects objects objects objects objects objects objects objects objects objects objects objects objects objects objects objects objects objects objects objects objects objects objects objects objects objects objects objects objects objects objects objects objects objects objects objects objects objects objects objects objects objects objects objects objects objects objects objects objects objects objects objects objects objects objects objects objects objects objects objects objects objects objects objects objects objects objects objects objects objects objects objects objects objects objects objects objects objects objects objects objects objects objects objects objects objects objects objects objects objects objects objects objects objects objects objects objects objects objects objects objects objects objects objects objects objects objects objects objects objects objects objects objects objects objects objects objects objects objects objects objects objects objects objects objects objects objects objects objects objects objects objects objects objects objects objects objects objects objects objects objects objects objects objects objects objects objects objects objects objects objects objects objects objects objects objects objects objects objects objects took took took took took took took took took took took took took took took took took took took took took took took took took took took took took took took took took took took took took took took took took took took took took took took took took took took took took took took took took took took took took took took took took took took took took took took took took took took took took took took took took took took took took took took took took took took took took took took took took took took took took took took took took took took took took took took took took took took took took took took took took took took took took took took took took took took took took took took took took took took took took took took took took took took took took took took took took took took took took took took took took took took took took took took took glowing glowing glowing glowing glowing glowing glowing glowing glowing glowing glowing glowing glowing glowing glowing glowing glowing glowing glowing glowing glowing glowing glowing glowing glowing glowing glowing glowing glowing glowing glowing glowing glowing glowing glowing glowing glowing glowing glowing glowing glowing glowing glowing glowing glowing glowing glowing glowing glowing glowing glowing glowing glowing glowing glowing glowing glowing glowing glowing glowing glowing glowing glowing glowing glowing glowing glowing glowing glowing glowing glowing glowing glowing glowing glowing glowing glowing glowing glowing glowing glowing glowing glowing glowing glowing glowing glowing glowing glowing glowing glowing glowing glowing glowing glowing glowing glowing glowing glowing glowing glowing glowing glowing glowing glowing glowing glowing glowing glowing glowing glowing glowing glowing glowing glowing glowing glowing glowing glowing glowing glowing glowing glowing glowing glowing glowing glowing glowing glowing glowing glowing glowing glowing glowing glowing glowing glowing glowing glowing glowing glowing glowing glowing glowing glowing glowing glowing glowing glowing glowing glowing glowing glowing glowing glowing glowing glowing glowing glowing glowing glowing glowing glowing glowing glowing glowing glowing appeared appeared appeared appeared appeared appeared appeared appeared appeared appeared appeared appeared appeared appeared appeared appeared appeared appeared appeared appeared appeared appeared appeared appeared appeared appeared appeared appeared appeared appeared appeared appeared appeared appeared appeared appeared appeared appeared appeared appeared appeared appeared appeared appeared appeared appeared appeared appeared appeared appeared appeared appeared appeared appeared appeared appeared appeared appeared appeared appeared appeared appeared appeared appeared appeared appeared appeared appeared appeared appeared appeared appeared appeared appeared appeared appeared appeared appeared appeared appeared appeared appeared appeared appeared appeared appeared appeared appeared appeared appeared appeared appeared appeared appeared appeared appeared appeared appeared appeared appeared appeared appeared appeared appeared appeared appeared appeared appeared appeared appeared appeared appeared appeared appeared appeared appeared appeared appeared appeared appeared appeared appeared appeared appeared appeared appeared appeared appeared appeared appeared appeared appeared appeared appeared appeared appeared appeared appeared appeared appeared appeared appeared appeared appeared appeared appeared appeared appeared appeared appeared appeared appeared appeared appeared appeared appeared appeared appeared appeared appeared appeared appeared star star star star star star star star star star star star star star star star star star star star star star star star star star star star star star star star star star star star star star star star star star star star star star star star star star star star star star star star star star star star star star star star star star star star star star star star star star star star star star star star star star star star star star star star star star star star star star star star star star star star star star star star star star star star star star star star star star star star star star star star star star star star star star star star star star star star star star star star star star star star star star star star star star star star star star star star star star star star star star star star star shape shape shape shape shape shape shape shape shape shape shape shape shape shape shape shape shape shape shape shape shape shape shape shape shape shape shape shape shape shape shape shape shape shape shape shape shape shape shape shape shape shape shape shape shape shape shape shape shape shape shape shape shape shape shape shape shape shape shape shape shape shape shape shape shape shape shape shape shape shape shape shape shape shape shape shape shape shape shape shape shape shape shape shape shape shape shape shape shape shape shape shape shape shape shape shape shape shape shape shape shape shape shape shape shape shape shape shape shape shape shape shape shape shape shape shape shape shape shape shape shape shape shape shape shape shape shape shape shape shape shape shape shape shape shape shape shape shape shape shape shape shape shape shape shape shape shape shape shape shape shape shape shape shape shape shape shape shape shape shape shape large large large large large large large large large large large large large large large large large large large large large large large large large large large large large large large large large large large large large large large large large large large large large large large large large large large large large large large large large large large large large large large large large large large large large large large large large large large large large large large large large large large large large large large large large large large large large large large large large large large large large large large large large large large large large large large large large large large large large large large large large large large large large large large large large large large large large large large large large large large large large large large large large large large large large large large large large large large large large large large large shaped shaped shaped shaped shaped shaped shaped shaped shaped shaped shaped shaped shaped shaped shaped shaped shaped shaped shaped shaped shaped shaped shaped shaped shaped shaped shaped shaped shaped shaped shaped shaped shaped shaped shaped shaped shaped shaped shaped shaped shaped shaped shaped shaped shaped shaped shaped shaped shaped shaped shaped shaped shaped shaped shaped shaped shaped shaped shaped shaped shaped shaped shaped shaped shaped shaped shaped shaped shaped shaped shaped shaped shaped shaped shaped shaped shaped shaped shaped shaped shaped shaped shaped shaped shaped shaped shaped shaped shaped shaped shaped shaped shaped shaped shaped shaped shaped shaped shaped shaped shaped shaped shaped shaped shaped shaped shaped shaped shaped shaped shaped shaped shaped shaped shaped shaped shaped shaped shaped shaped shaped shaped shaped shaped shaped shaped shaped shaped shaped shaped shaped shaped shaped shaped shaped shaped shaped shaped shaped shaped shaped shaped shaped shaped shaped shaped shaped shaped shaped shaped shaped shaped shaped shaped shaped shaped shaped shaped observed observed observed observed observed observed observed observed observed observed observed observed observed observed observed observed observed observed observed observed observed observed observed observed observed observed observed observed observed observed observed observed observed observed observed observed observed observed observed observed observed observed observed observed observed observed observed observed observed observed observed observed observed observed observed observed observed observed observed observed observed observed observed observed observed observed observed observed observed observed observed observed observed observed observed observed observed observed observed observed observed observed observed observed observed observed observed observed observed observed observed observed observed observed observed observed observed observed observed observed observed observed observed observed observed observed observed observed observed observed observed observed observed observed observed observed observed observed observed observed observed observed observed observed observed observed observed observed observed observed observed observed observed observed observed observed observed observed observed observed observed observed observed observed observed observed triangle triangle triangle triangle triangle triangle triangle triangle triangle triangle triangle triangle triangle triangle triangle triangle triangle triangle triangle triangle triangle triangle triangle triangle triangle triangle triangle triangle triangle triangle triangle triangle triangle triangle triangle triangle triangle triangle triangle triangle triangle triangle triangle triangle triangle triangle triangle triangle triangle triangle triangle triangle triangle triangle triangle triangle triangle triangle triangle triangle triangle triangle triangle triangle triangle triangle triangle triangle triangle triangle triangle triangle triangle triangle triangle triangle triangle triangle triangle triangle triangle triangle triangle triangle triangle triangle triangle triangle triangle triangle triangle triangle triangle triangle triangle triangle triangle triangle triangle triangle triangle triangle triangle triangle triangle triangle triangle triangle triangle triangle triangle triangle triangle triangle triangle triangle triangle triangle triangle triangle triangle triangle triangle triangle triangle triangle triangle triangle triangle triangle triangle triangle triangle triangle triangle triangle triangle triangle triangle triangle triangle triangle triangle triangle disappeared disappeared disappeared disappeared disappeared disappeared disappeared disappeared disappeared disappeared disappeared disappeared disappeared disappeared disappeared disappeared disappeared disappeared disappeared disappeared disappeared disappeared disappeared disappeared disappeared disappeared disappeared disappeared disappeared disappeared disappeared disappeared disappeared disappeared disappeared disappeared disappeared disappeared disappeared disappeared disappeared disappeared disappeared disappeared disappeared disappeared disappeared disappeared disappeared disappeared disappeared disappeared disappeared disappeared disappeared disappeared disappeared disappeared disappeared disappeared disappeared disappeared disappeared disappeared disappeared disappeared disappeared disappeared disappeared disappeared disappeared disappeared disappeared disappeared disappeared disappeared disappeared disappeared disappeared disappeared disappeared disappeared disappeared disappeared disappeared disappeared disappeared disappeared disappeared disappeared disappeared disappeared disappeared disappeared disappeared disappeared disappeared disappeared disappeared disappeared disappeared disappeared disappeared disappeared disappeared disappeared disappeared disappeared disappeared disappeared disappeared disappeared disappeared disappeared disappeared disappeared disappeared disappeared disappeared disappeared disappeared disappeared disappeared disappeared disappeared disappeared disappeared disappeared disappeared disappeared disappeared disappeared disappeared disappeared'"
      ]
     },
     "execution_count": 8,
     "metadata": {},
     "output_type": "execute_result"
    }
   ],
   "source": [
    "#Variable to concat the words_var and append it into a string with a space between words\n",
    "word_cat_var = words_var.str.cat(sep=' ')\n",
    "\n",
    "#word_cat_var = st2_df['words'].str.cat(sep=' ')\n",
    "word_cat_var"
   ]
  },
  {
   "cell_type": "code",
   "execution_count": null,
   "metadata": {},
   "outputs": [],
   "source": []
  },
  {
   "cell_type": "code",
   "execution_count": null,
   "metadata": {},
   "outputs": [],
   "source": []
  }
 ],
 "metadata": {
  "kernelspec": {
   "display_name": "Python 3",
   "language": "python",
   "name": "python3"
  },
  "language_info": {
   "codemirror_mode": {
    "name": "ipython",
    "version": 3
   },
   "file_extension": ".py",
   "mimetype": "text/x-python",
   "name": "python",
   "nbconvert_exporter": "python",
   "pygments_lexer": "ipython3",
   "version": "3.6.5"
  }
 },
 "nbformat": 4,
 "nbformat_minor": 2
}
